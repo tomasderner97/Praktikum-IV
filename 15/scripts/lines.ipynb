{
 "cells": [
  {
   "cell_type": "code",
   "execution_count": 24,
   "metadata": {},
   "outputs": [],
   "source": [
    "from lines import *"
   ]
  },
  {
   "cell_type": "code",
   "execution_count": 25,
   "metadata": {},
   "outputs": [
    {
     "name": "stdout",
     "output_type": "stream",
     "text": [
      "The autoreload extension is already loaded. To reload it, use:\n",
      "  %reload_ext autoreload\n"
     ]
    }
   ],
   "source": [
    "%load_ext autoreload\n",
    "%autoreload 2"
   ]
  },
  {
   "cell_type": "code",
   "execution_count": 26,
   "metadata": {},
   "outputs": [],
   "source": [
    "df = get_lines()"
   ]
  },
  {
   "cell_type": "code",
   "execution_count": 27,
   "metadata": {},
   "outputs": [
    {
     "data": {
      "text/html": [
       "<div>\n",
       "<style scoped>\n",
       "    .dataframe tbody tr th:only-of-type {\n",
       "        vertical-align: middle;\n",
       "    }\n",
       "\n",
       "    .dataframe tbody tr th {\n",
       "        vertical-align: top;\n",
       "    }\n",
       "\n",
       "    .dataframe thead th {\n",
       "        text-align: right;\n",
       "    }\n",
       "</style>\n",
       "<table border=\"1\" class=\"dataframe\">\n",
       "  <thead>\n",
       "    <tr style=\"text-align: right;\">\n",
       "      <th></th>\n",
       "      <th>argon</th>\n",
       "      <th>vodik</th>\n",
       "      <th>helium</th>\n",
       "      <th>neon</th>\n",
       "      <th>CO2</th>\n",
       "      <th>dusik</th>\n",
       "      <th>lambda_argon</th>\n",
       "      <th>lambda_vodik</th>\n",
       "      <th>lambda_helium</th>\n",
       "      <th>lambda_neon</th>\n",
       "      <th>lambda_CO2</th>\n",
       "      <th>lambda_dusik</th>\n",
       "    </tr>\n",
       "  </thead>\n",
       "  <tbody>\n",
       "    <tr>\n",
       "      <th>0</th>\n",
       "      <td>3439</td>\n",
       "      <td>3178.0</td>\n",
       "      <td>3216.0</td>\n",
       "      <td>3322.0</td>\n",
       "      <td>2988.0</td>\n",
       "      <td>3218.0</td>\n",
       "      <td>749.190577</td>\n",
       "      <td>656.902958</td>\n",
       "      <td>668.348487</td>\n",
       "      <td>703.635537</td>\n",
       "      <td>607.629038</td>\n",
       "      <td>668.967512</td>\n",
       "    </tr>\n",
       "    <tr>\n",
       "      <th>1</th>\n",
       "      <td>2971</td>\n",
       "      <td>2193.0</td>\n",
       "      <td>3024.0</td>\n",
       "      <td>3122.0</td>\n",
       "      <td>2754.0</td>\n",
       "      <td>3190.0</td>\n",
       "      <td>603.783014</td>\n",
       "      <td>486.354219</td>\n",
       "      <td>616.052164</td>\n",
       "      <td>641.074307</td>\n",
       "      <td>561.053369</td>\n",
       "      <td>660.453468</td>\n",
       "    </tr>\n",
       "    <tr>\n",
       "      <th>2</th>\n",
       "      <td>2794</td>\n",
       "      <td>1558.0</td>\n",
       "      <td>2897.0</td>\n",
       "      <td>3018.0</td>\n",
       "      <td>2480.0</td>\n",
       "      <td>3165.0</td>\n",
       "      <td>568.138362</td>\n",
       "      <td>434.214777</td>\n",
       "      <td>587.955524</td>\n",
       "      <td>614.621309</td>\n",
       "      <td>519.767394</td>\n",
       "      <td>653.121263</td>\n",
       "    </tr>\n",
       "    <tr>\n",
       "      <th>3</th>\n",
       "      <td>2475</td>\n",
       "      <td>NaN</td>\n",
       "      <td>2578.0</td>\n",
       "      <td>2886.0</td>\n",
       "      <td>2164.0</td>\n",
       "      <td>2986.0</td>\n",
       "      <td>519.111839</td>\n",
       "      <td>NaN</td>\n",
       "      <td>533.254219</td>\n",
       "      <td>585.722385</td>\n",
       "      <td>483.391521</td>\n",
       "      <td>607.172280</td>\n",
       "    </tr>\n",
       "    <tr>\n",
       "      <th>4</th>\n",
       "      <td>2030</td>\n",
       "      <td>NaN</td>\n",
       "      <td>2334.0</td>\n",
       "      <td>2625.0</td>\n",
       "      <td>1789.0</td>\n",
       "      <td>2836.0</td>\n",
       "      <td>470.523037</td>\n",
       "      <td>NaN</td>\n",
       "      <td>501.769501</td>\n",
       "      <td>540.190590</td>\n",
       "      <td>450.393765</td>\n",
       "      <td>575.932179</td>\n",
       "    </tr>\n",
       "    <tr>\n",
       "      <th>5</th>\n",
       "      <td>1798</td>\n",
       "      <td>NaN</td>\n",
       "      <td>2251.0</td>\n",
       "      <td>1605.0</td>\n",
       "      <td>1625.0</td>\n",
       "      <td>2605.0</td>\n",
       "      <td>451.082227</td>\n",
       "      <td>NaN</td>\n",
       "      <td>492.485058</td>\n",
       "      <td>437.286664</td>\n",
       "      <td>438.626134</td>\n",
       "      <td>537.199190</td>\n",
       "    </tr>\n",
       "    <tr>\n",
       "      <th>6</th>\n",
       "      <td>1324</td>\n",
       "      <td>NaN</td>\n",
       "      <td>2040.0</td>\n",
       "      <td>2037.0</td>\n",
       "      <td>1180.0</td>\n",
       "      <td>2144.0</td>\n",
       "      <td>420.290142</td>\n",
       "      <td>NaN</td>\n",
       "      <td>471.439058</td>\n",
       "      <td>471.163531</td>\n",
       "      <td>412.511111</td>\n",
       "      <td>481.386587</td>\n",
       "    </tr>\n",
       "    <tr>\n",
       "      <th>7</th>\n",
       "      <td>2690</td>\n",
       "      <td>NaN</td>\n",
       "      <td>1744.0</td>\n",
       "      <td>2354.0</td>\n",
       "      <td>3198.0</td>\n",
       "      <td>1874.0</td>\n",
       "      <td>550.346500</td>\n",
       "      <td>NaN</td>\n",
       "      <td>447.020115</td>\n",
       "      <td>504.103206</td>\n",
       "      <td>662.852904</td>\n",
       "      <td>457.084234</td>\n",
       "    </tr>\n",
       "    <tr>\n",
       "      <th>8</th>\n",
       "      <td>2918</td>\n",
       "      <td>NaN</td>\n",
       "      <td>NaN</td>\n",
       "      <td>NaN</td>\n",
       "      <td>NaN</td>\n",
       "      <td>1441.0</td>\n",
       "      <td>592.302089</td>\n",
       "      <td>NaN</td>\n",
       "      <td>NaN</td>\n",
       "      <td>NaN</td>\n",
       "      <td>NaN</td>\n",
       "      <td>426.994856</td>\n",
       "    </tr>\n",
       "    <tr>\n",
       "      <th>9</th>\n",
       "      <td>3306</td>\n",
       "      <td>NaN</td>\n",
       "      <td>NaN</td>\n",
       "      <td>NaN</td>\n",
       "      <td>NaN</td>\n",
       "      <td>NaN</td>\n",
       "      <td>697.969836</td>\n",
       "      <td>NaN</td>\n",
       "      <td>NaN</td>\n",
       "      <td>NaN</td>\n",
       "      <td>NaN</td>\n",
       "      <td>NaN</td>\n",
       "    </tr>\n",
       "  </tbody>\n",
       "</table>\n",
       "</div>"
      ],
      "text/plain": [
       "   argon   vodik  helium    neon     CO2   dusik  lambda_argon  lambda_vodik  \\\n",
       "0   3439  3178.0  3216.0  3322.0  2988.0  3218.0    749.190577    656.902958   \n",
       "1   2971  2193.0  3024.0  3122.0  2754.0  3190.0    603.783014    486.354219   \n",
       "2   2794  1558.0  2897.0  3018.0  2480.0  3165.0    568.138362    434.214777   \n",
       "3   2475     NaN  2578.0  2886.0  2164.0  2986.0    519.111839           NaN   \n",
       "4   2030     NaN  2334.0  2625.0  1789.0  2836.0    470.523037           NaN   \n",
       "5   1798     NaN  2251.0  1605.0  1625.0  2605.0    451.082227           NaN   \n",
       "6   1324     NaN  2040.0  2037.0  1180.0  2144.0    420.290142           NaN   \n",
       "7   2690     NaN  1744.0  2354.0  3198.0  1874.0    550.346500           NaN   \n",
       "8   2918     NaN     NaN     NaN     NaN  1441.0    592.302089           NaN   \n",
       "9   3306     NaN     NaN     NaN     NaN     NaN    697.969836           NaN   \n",
       "\n",
       "   lambda_helium  lambda_neon  lambda_CO2  lambda_dusik  \n",
       "0     668.348487   703.635537  607.629038    668.967512  \n",
       "1     616.052164   641.074307  561.053369    660.453468  \n",
       "2     587.955524   614.621309  519.767394    653.121263  \n",
       "3     533.254219   585.722385  483.391521    607.172280  \n",
       "4     501.769501   540.190590  450.393765    575.932179  \n",
       "5     492.485058   437.286664  438.626134    537.199190  \n",
       "6     471.439058   471.163531  412.511111    481.386587  \n",
       "7     447.020115   504.103206  662.852904    457.084234  \n",
       "8            NaN          NaN         NaN    426.994856  \n",
       "9            NaN          NaN         NaN           NaN  "
      ]
     },
     "execution_count": 27,
     "metadata": {},
     "output_type": "execute_result"
    }
   ],
   "source": [
    "df"
   ]
  },
  {
   "cell_type": "code",
   "execution_count": 28,
   "metadata": {},
   "outputs": [],
   "source": [
    "df = get_hydrogen()"
   ]
  },
  {
   "cell_type": "code",
   "execution_count": 29,
   "metadata": {},
   "outputs": [
    {
     "data": {
      "text/html": [
       "<div>\n",
       "<style scoped>\n",
       "    .dataframe tbody tr th:only-of-type {\n",
       "        vertical-align: middle;\n",
       "    }\n",
       "\n",
       "    .dataframe tbody tr th {\n",
       "        vertical-align: top;\n",
       "    }\n",
       "\n",
       "    .dataframe thead th {\n",
       "        text-align: right;\n",
       "    }\n",
       "</style>\n",
       "<table border=\"1\" class=\"dataframe\">\n",
       "  <thead>\n",
       "    <tr style=\"text-align: right;\">\n",
       "      <th></th>\n",
       "      <th>lambda</th>\n",
       "      <th>1/lambda</th>\n",
       "      <th>n</th>\n",
       "      <th>parenthesis</th>\n",
       "    </tr>\n",
       "  </thead>\n",
       "  <tbody>\n",
       "    <tr>\n",
       "      <th>0</th>\n",
       "      <td>656.9</td>\n",
       "      <td>0.001522</td>\n",
       "      <td>3</td>\n",
       "      <td>0.138889</td>\n",
       "    </tr>\n",
       "    <tr>\n",
       "      <th>1</th>\n",
       "      <td>486.4</td>\n",
       "      <td>0.002056</td>\n",
       "      <td>4</td>\n",
       "      <td>0.187500</td>\n",
       "    </tr>\n",
       "    <tr>\n",
       "      <th>2</th>\n",
       "      <td>434.2</td>\n",
       "      <td>0.002303</td>\n",
       "      <td>5</td>\n",
       "      <td>0.210000</td>\n",
       "    </tr>\n",
       "  </tbody>\n",
       "</table>\n",
       "</div>"
      ],
      "text/plain": [
       "   lambda  1/lambda  n  parenthesis\n",
       "0   656.9  0.001522  3     0.138889\n",
       "1   486.4  0.002056  4     0.187500\n",
       "2   434.2  0.002303  5     0.210000"
      ]
     },
     "execution_count": 29,
     "metadata": {},
     "output_type": "execute_result"
    }
   ],
   "source": [
    "df"
   ]
  },
  {
   "cell_type": "code",
   "execution_count": 41,
   "metadata": {},
   "outputs": [
    {
     "name": "stdout",
     "output_type": "stream",
     "text": [
      "params [10965031.40983569]\n",
      "errors [1698.4301661895609]\n"
     ]
    },
    {
     "data": {
      "text/plain": [
       "(<Figure size 900x562.5 with 1 Axes>,\n",
       " <matplotlib.axes._subplots.AxesSubplot at 0x1a552aa9b88>)"
      ]
     },
     "execution_count": 41,
     "metadata": {},
     "output_type": "execute_result"
    },
    {
     "data": {
      "image/png": "[encoded data removed]",
      "text/plain": [
       "<Figure size 900x562.5 with 1 Axes>"
      ]
     },
     "metadata": {
      "needs_background": "light"
     },
     "output_type": "display_data"
    }
   ],
   "source": [
    "plot_hydrogen()"
   ]
  },
  {
   "cell_type": "code",
   "execution_count": null,
   "metadata": {},
   "outputs": [],
   "source": []
  }
 ],
 "metadata": {
  "kernelspec": {
   "display_name": "Python 3",
   "language": "python",
   "name": "python3"
  },
  "language_info": {
   "codemirror_mode": {
    "name": "ipython",
    "version": 3
   },
   "file_extension": ".py",
   "mimetype": "text/x-python",
   "name": "python",
   "nbconvert_exporter": "python",
   "pygments_lexer": "ipython3",
   "version": "3.7.4"
  }
 },
 "nbformat": 4,
 "nbformat_minor": 4
}
