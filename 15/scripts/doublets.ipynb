{
 "cells": [
  {
   "cell_type": "code",
   "execution_count": 11,
   "metadata": {},
   "outputs": [],
   "source": [
    "from doublets import *"
   ]
  },
  {
   "cell_type": "code",
   "execution_count": 12,
   "metadata": {
    "collapsed": false,
    "jupyter": {
     "outputs_hidden": false
    },
    "pycharm": {
     "name": "#%%\n"
    }
   },
   "outputs": [
    {
     "name": "stdout",
     "output_type": "stream",
     "text": [
      "The autoreload extension is already loaded. To reload it, use:\n",
      "  %reload_ext autoreload\n"
     ]
    }
   ],
   "source": [
    "%load_ext autoreload\n",
    "%autoreload 2"
   ]
  },
  {
   "cell_type": "code",
   "execution_count": 13,
   "metadata": {},
   "outputs": [
    {
     "data": {
      "text/html": [
       "<div>\n",
       "<style scoped>\n",
       "    .dataframe tbody tr th:only-of-type {\n",
       "        vertical-align: middle;\n",
       "    }\n",
       "\n",
       "    .dataframe tbody tr th {\n",
       "        vertical-align: top;\n",
       "    }\n",
       "\n",
       "    .dataframe thead th {\n",
       "        text-align: right;\n",
       "    }\n",
       "</style>\n",
       "<table border=\"1\" class=\"dataframe\">\n",
       "  <thead>\n",
       "    <tr style=\"text-align: right;\">\n",
       "      <th></th>\n",
       "      <th>table_values</th>\n",
       "      <th>degrees</th>\n",
       "      <th>lambdas</th>\n",
       "      <th>deltas_table</th>\n",
       "      <th>deltas_measured</th>\n",
       "    </tr>\n",
       "  </thead>\n",
       "  <tbody>\n",
       "    <tr>\n",
       "      <th>0</th>\n",
       "      <td>616.1</td>\n",
       "      <td>3022</td>\n",
       "      <td>615.6</td>\n",
       "      <td>0.7</td>\n",
       "      <td>0.3</td>\n",
       "    </tr>\n",
       "    <tr>\n",
       "      <th>1</th>\n",
       "      <td>615.4</td>\n",
       "      <td>3021</td>\n",
       "      <td>615.3</td>\n",
       "      <td>25.8</td>\n",
       "      <td>26.1</td>\n",
       "    </tr>\n",
       "    <tr>\n",
       "      <th>2</th>\n",
       "      <td>589.6</td>\n",
       "      <td>2903</td>\n",
       "      <td>589.2</td>\n",
       "      <td>0.6</td>\n",
       "      <td>0.4</td>\n",
       "    </tr>\n",
       "    <tr>\n",
       "      <th>3</th>\n",
       "      <td>589.0</td>\n",
       "      <td>2901</td>\n",
       "      <td>588.8</td>\n",
       "      <td>20.1</td>\n",
       "      <td>20.3</td>\n",
       "    </tr>\n",
       "    <tr>\n",
       "      <th>4</th>\n",
       "      <td>568.9</td>\n",
       "      <td>2796</td>\n",
       "      <td>568.5</td>\n",
       "      <td>0.1</td>\n",
       "      <td>0.4</td>\n",
       "    </tr>\n",
       "    <tr>\n",
       "      <th>5</th>\n",
       "      <td>568.8</td>\n",
       "      <td>2794</td>\n",
       "      <td>568.1</td>\n",
       "      <td>53.4</td>\n",
       "      <td>53.2</td>\n",
       "    </tr>\n",
       "    <tr>\n",
       "      <th>6</th>\n",
       "      <td>515.4</td>\n",
       "      <td>2442</td>\n",
       "      <td>514.9</td>\n",
       "      <td>0.5</td>\n",
       "      <td>0.0</td>\n",
       "    </tr>\n",
       "    <tr>\n",
       "      <th>7</th>\n",
       "      <td>514.9</td>\n",
       "      <td>2442</td>\n",
       "      <td>514.9</td>\n",
       "      <td>16.6</td>\n",
       "      <td>16.8</td>\n",
       "    </tr>\n",
       "    <tr>\n",
       "      <th>8</th>\n",
       "      <td>498.3</td>\n",
       "      <td>2302</td>\n",
       "      <td>498.1</td>\n",
       "      <td>0.4</td>\n",
       "      <td>0.1</td>\n",
       "    </tr>\n",
       "    <tr>\n",
       "      <th>9</th>\n",
       "      <td>497.9</td>\n",
       "      <td>2301</td>\n",
       "      <td>498.0</td>\n",
       "      <td>NaN</td>\n",
       "      <td>NaN</td>\n",
       "    </tr>\n",
       "  </tbody>\n",
       "</table>\n",
       "</div>"
      ],
      "text/plain": [
       "   table_values  degrees  lambdas  deltas_table  deltas_measured\n",
       "0         616.1     3022    615.6           0.7              0.3\n",
       "1         615.4     3021    615.3          25.8             26.1\n",
       "2         589.6     2903    589.2           0.6              0.4\n",
       "3         589.0     2901    588.8          20.1             20.3\n",
       "4         568.9     2796    568.5           0.1              0.4\n",
       "5         568.8     2794    568.1          53.4             53.2\n",
       "6         515.4     2442    514.9           0.5              0.0\n",
       "7         514.9     2442    514.9          16.6             16.8\n",
       "8         498.3     2302    498.1           0.4              0.1\n",
       "9         497.9     2301    498.0           NaN              NaN"
      ]
     },
     "execution_count": 13,
     "metadata": {},
     "output_type": "execute_result"
    }
   ],
   "source": [
    "df = get_doublets()\n",
    "df"
   ]
  },
  {
   "cell_type": "code",
   "execution_count": 14,
   "metadata": {},
   "outputs": [],
   "source": [
    "df[\"difference\"] = abs(df[\"table_values\"] - df[\"lambdas\"])"
   ]
  },
  {
   "cell_type": "code",
   "execution_count": 15,
   "metadata": {},
   "outputs": [
    {
     "data": {
      "text/html": [
       "<div>\n",
       "<style scoped>\n",
       "    .dataframe tbody tr th:only-of-type {\n",
       "        vertical-align: middle;\n",
       "    }\n",
       "\n",
       "    .dataframe tbody tr th {\n",
       "        vertical-align: top;\n",
       "    }\n",
       "\n",
       "    .dataframe thead th {\n",
       "        text-align: right;\n",
       "    }\n",
       "</style>\n",
       "<table border=\"1\" class=\"dataframe\">\n",
       "  <thead>\n",
       "    <tr style=\"text-align: right;\">\n",
       "      <th></th>\n",
       "      <th>table_values</th>\n",
       "      <th>degrees</th>\n",
       "      <th>lambdas</th>\n",
       "      <th>deltas_table</th>\n",
       "      <th>deltas_measured</th>\n",
       "      <th>difference</th>\n",
       "    </tr>\n",
       "  </thead>\n",
       "  <tbody>\n",
       "    <tr>\n",
       "      <th>0</th>\n",
       "      <td>616.1</td>\n",
       "      <td>3022</td>\n",
       "      <td>615.6</td>\n",
       "      <td>0.7</td>\n",
       "      <td>0.3</td>\n",
       "      <td>0.5</td>\n",
       "    </tr>\n",
       "    <tr>\n",
       "      <th>1</th>\n",
       "      <td>615.4</td>\n",
       "      <td>3021</td>\n",
       "      <td>615.3</td>\n",
       "      <td>25.8</td>\n",
       "      <td>26.1</td>\n",
       "      <td>0.1</td>\n",
       "    </tr>\n",
       "    <tr>\n",
       "      <th>2</th>\n",
       "      <td>589.6</td>\n",
       "      <td>2903</td>\n",
       "      <td>589.2</td>\n",
       "      <td>0.6</td>\n",
       "      <td>0.4</td>\n",
       "      <td>0.4</td>\n",
       "    </tr>\n",
       "    <tr>\n",
       "      <th>3</th>\n",
       "      <td>589.0</td>\n",
       "      <td>2901</td>\n",
       "      <td>588.8</td>\n",
       "      <td>20.1</td>\n",
       "      <td>20.3</td>\n",
       "      <td>0.2</td>\n",
       "    </tr>\n",
       "    <tr>\n",
       "      <th>4</th>\n",
       "      <td>568.9</td>\n",
       "      <td>2796</td>\n",
       "      <td>568.5</td>\n",
       "      <td>0.1</td>\n",
       "      <td>0.4</td>\n",
       "      <td>0.4</td>\n",
       "    </tr>\n",
       "    <tr>\n",
       "      <th>5</th>\n",
       "      <td>568.8</td>\n",
       "      <td>2794</td>\n",
       "      <td>568.1</td>\n",
       "      <td>53.4</td>\n",
       "      <td>53.2</td>\n",
       "      <td>0.7</td>\n",
       "    </tr>\n",
       "    <tr>\n",
       "      <th>6</th>\n",
       "      <td>515.4</td>\n",
       "      <td>2442</td>\n",
       "      <td>514.9</td>\n",
       "      <td>0.5</td>\n",
       "      <td>0.0</td>\n",
       "      <td>0.5</td>\n",
       "    </tr>\n",
       "    <tr>\n",
       "      <th>7</th>\n",
       "      <td>514.9</td>\n",
       "      <td>2442</td>\n",
       "      <td>514.9</td>\n",
       "      <td>16.6</td>\n",
       "      <td>16.8</td>\n",
       "      <td>0.0</td>\n",
       "    </tr>\n",
       "    <tr>\n",
       "      <th>8</th>\n",
       "      <td>498.3</td>\n",
       "      <td>2302</td>\n",
       "      <td>498.1</td>\n",
       "      <td>0.4</td>\n",
       "      <td>0.1</td>\n",
       "      <td>0.2</td>\n",
       "    </tr>\n",
       "    <tr>\n",
       "      <th>9</th>\n",
       "      <td>497.9</td>\n",
       "      <td>2301</td>\n",
       "      <td>498.0</td>\n",
       "      <td>NaN</td>\n",
       "      <td>NaN</td>\n",
       "      <td>0.1</td>\n",
       "    </tr>\n",
       "  </tbody>\n",
       "</table>\n",
       "</div>"
      ],
      "text/plain": [
       "   table_values  degrees  lambdas  deltas_table  deltas_measured  difference\n",
       "0         616.1     3022    615.6           0.7              0.3         0.5\n",
       "1         615.4     3021    615.3          25.8             26.1         0.1\n",
       "2         589.6     2903    589.2           0.6              0.4         0.4\n",
       "3         589.0     2901    588.8          20.1             20.3         0.2\n",
       "4         568.9     2796    568.5           0.1              0.4         0.4\n",
       "5         568.8     2794    568.1          53.4             53.2         0.7\n",
       "6         515.4     2442    514.9           0.5              0.0         0.5\n",
       "7         514.9     2442    514.9          16.6             16.8         0.0\n",
       "8         498.3     2302    498.1           0.4              0.1         0.2\n",
       "9         497.9     2301    498.0           NaN              NaN         0.1"
      ]
     },
     "execution_count": 15,
     "metadata": {},
     "output_type": "execute_result"
    }
   ],
   "source": [
    "df"
   ]
  },
  {
   "cell_type": "code",
   "execution_count": 16,
   "metadata": {},
   "outputs": [
    {
     "data": {
      "text/plain": [
       "0    0.5\n",
       "1    0.1\n",
       "2    0.4\n",
       "3    0.2\n",
       "4    0.4\n",
       "5    0.7\n",
       "6    0.5\n",
       "7    0.0\n",
       "8    0.2\n",
       "9    0.1\n",
       "Name: difference, dtype: float64"
      ]
     },
     "execution_count": 16,
     "metadata": {},
     "output_type": "execute_result"
    }
   ],
   "source": [
    "df[\"difference\"]"
   ]
  },
  {
   "cell_type": "code",
   "execution_count": null,
   "metadata": {},
   "outputs": [],
   "source": []
  }
 ],
 "metadata": {
  "kernelspec": {
   "display_name": "Python 3",
   "language": "python",
   "name": "python3"
  },
  "language_info": {
   "codemirror_mode": {
    "name": "ipython",
    "version": 3
   },
   "file_extension": ".py",
   "mimetype": "text/x-python",
   "name": "python",
   "nbconvert_exporter": "python",
   "pygments_lexer": "ipython3",
   "version": "3.7.4"
  },
  "pycharm": {
   "stem_cell": {
    "cell_type": "raw",
    "metadata": {
     "collapsed": false
    },
    "source": []
   }
  }
 },
 "nbformat": 4,
 "nbformat_minor": 4
}
